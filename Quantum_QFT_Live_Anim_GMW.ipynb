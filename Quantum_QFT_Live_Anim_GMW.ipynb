{
  "nbformat": 4,
  "nbformat_minor": 0,
  "metadata": {
    "colab": {
      "provenance": []
    },
    "kernelspec": {
      "name": "python3",
      "display_name": "Python 3"
    },
    "language_info": {
      "name": "python"
    }
  },
  "cells": [
    {
      "cell_type": "code",
      "execution_count": null,
      "metadata": {
        "id": "_2chfex9ZgXi"
      },
      "outputs": [],
      "source": [
        "import numpy as np\n",
        "import pennylane as qml\n",
        "import matplotlib.pyplot as plt\n",
        "import matplotlib.animation as animation\n",
        "from mpl_toolkits.mplot3d import Axes3D\n",
        "import matplotlib.cm as cm"
      ]
    },
    {
      "cell_type": "code",
      "source": [
        "# optional (BUT RECOMMENDED) use JAX for GPU acceleration\n",
        "try:\n",
        "    import jax.numpy as jnp\n",
        "    from jax import random\n",
        "    np = jnp  # replace NumPy with JAX for speed\n",
        "    print(\"JAX successfuly enabled for GPU acceleration.\")\n",
        "    #or not\n",
        "except ImportError:\n",
        "    print(\"JAX not found, youre stuck with NumPy. Good luck.\")"
      ],
      "metadata": {
        "id": "SGAvcNy3ZiNr"
      },
      "execution_count": null,
      "outputs": []
    },
    {
      "cell_type": "code",
      "source": [
        "# define the dimensions of the quantum grid\n",
        "Nx, Ny = 16, 16  # number of points in the x and y directions for visualization, this will dtermine your qbit usage so be mindful. 16 x 16 is a good res\n",
        "n_qubits = int(np.log2(Nx * Ny))  # determine the number of qubits required for the grid (these are limited)\n",
        "\n",
        "# initialize a quantum device using pennylane\n",
        "# this simulates a quantum computer that we can run our circuit on\n",
        "dev = qml.device(\"default.qubit\", wires=n_qubits) # you can replace this with any quantum device, or run locally."
      ],
      "metadata": {
        "id": "Ae52BkxNaLDu"
      },
      "execution_count": null,
      "outputs": []
    },
    {
      "cell_type": "code",
      "source": [
        "@qml.qnode(dev)\n",
        "def quantum_wavefunction(theta):\n",
        "    \"\"\"\n",
        "    quantum circuit simulating wavefunction evolution.\n",
        "    applies superposition, phase shifts, and the quantum fourier transform (qft).\n",
        "    returns the probability distribution of the quantum state.\n",
        "    \"\"\"\n",
        "\n",
        "    # apply hadamard gates to all qubits to create superposition\n",
        "    for i in range(n_qubits):\n",
        "        qml.Hadamard(wires=i)\n",
        "\n",
        "    # apply phase shift gates (rz) to introduce phase evolution over time\n",
        "    for i in range(n_qubits):\n",
        "        qml.RZ(theta, wires=i)\n",
        "\n",
        "    # apply quantum fourier transform to simulate interference patterns\n",
        "    qml.QFT(wires=range(n_qubits))\n",
        "\n",
        "    # return the probability distribution of the final quantum state\n",
        "    return qml.probs(wires=range(n_qubits))"
      ],
      "metadata": {
        "id": "pMeIyNH_a7GH"
      },
      "execution_count": null,
      "outputs": []
    },
    {
      "cell_type": "code",
      "source": [
        "# create a figure with two subplots: a 2d heatmap and a 3d plot\n",
        "fig, axs = plt.subplots(1, 2, figsize=(14, 7), facecolor=\"black\")\n",
        "fig.patch.set_facecolor(\"black\")  # set background color to black for aesthetics\n",
        "fig.tight_layout()  # adjust layout to prevent overlap\n",
        "\n",
        "# define the 2d subplot for heatmap visualization\n",
        "ax2d = axs[0]\n",
        "\n",
        "# define the 3d subplot for the probability wave\n",
        "ax3d = fig.add_subplot(122, projection=\"3d\")\n",
        "\n",
        "# set subplot backgrounds to black for consistency\n",
        "ax2d.set_facecolor(\"black\")\n",
        "ax3d.set_facecolor(\"black\")\n",
        "\n",
        "# create a mesh grid for the x and y axes\n",
        "# this is used to plot the 2d and 3d probability distributions\n",
        "X, Y = np.meshgrid(np.linspace(-1, 1, Nx), np.linspace(-1, 1, Ny))"
      ],
      "metadata": {
        "id": "mwHo_v9Ha9W1"
      },
      "execution_count": null,
      "outputs": []
    },
    {
      "cell_type": "code",
      "source": [
        "def update(frame):\n",
        "    \"\"\"\n",
        "    update function for animation.\n",
        "    recalculates the probability distribution at each frame to visualize quantum evolution.\n",
        "    \"\"\"\n",
        "\n",
        "    theta = frame * np.pi / 20  # phase evolution over time\n",
        "    probs = quantum_wavefunction(theta).reshape((Nx, Ny))  # reshape probability distribution to match grid\n",
        "\n",
        "    # update left plot (2d probability heatmap)\n",
        "    ax2d.clear()\n",
        "    ax2d.imshow(probs, cmap=\"plasma\", extent=[-1, 1, -1, 1], interpolation=\"bilinear\")\n",
        "    ax2d.set_title(\"2d quantum probability grid\", color=\"cyan\", fontsize=12, fontweight=\"bold\")\n",
        "    ax2d.set_xlabel(\"x [a.u.]\", color=\"cyan\")\n",
        "    ax2d.set_ylabel(\"y [a.u.]\", color=\"cyan\")\n",
        "    ax2d.set_xticks([])\n",
        "    ax2d.set_yticks([])\n",
        "\n",
        "    # update right plot (3d quantum probability wave)\n",
        "    ax3d.clear()\n",
        "    cmap = plt.get_cmap(\"plasma\")  # define colormap\n",
        "    colors = cmap(probs / np.max(probs))  # normalize colors for better contrast\n",
        "\n",
        "    # plot the 3d probability surface\n",
        "    ax3d.plot_surface(X, Y, probs, facecolors=colors, edgecolor=\"none\", shade=False, alpha=0.8)\n",
        "\n",
        "    # add a wireframe overlay for depth perception\n",
        "    ax3d.plot_wireframe(X, Y, probs, color=\"white\", alpha=0.15)\n",
        "\n",
        "    ax3d.set_title(\"3d quantum probability wave\", color=\"cyan\", fontsize=12, fontweight=\"bold\")\n",
        "    ax3d.set_xlabel(\"x [a.u.]\", color=\"cyan\")\n",
        "    ax3d.set_ylabel(\"y [a.u.]\", color=\"cyan\")\n",
        "    ax3d.set_zlabel(\"probability\", color=\"cyan\")\n",
        "\n",
        "    # remove tick labels for cleaner visualization\n",
        "    ax3d.set_xticklabels([])\n",
        "    ax3d.set_yticklabels([])\n",
        "    ax3d.set_zticklabels([])\n",
        "\n",
        "    # dynamically adjust z-axis limits for better visibility\n",
        "    ax3d.set_zlim(0, np.max(probs) + 0.1)\n",
        "\n",
        "    # apply smooth camera movement for animation effect\n",
        "    ax3d.view_init(elev=30 + np.sin(frame / 30) * 15, azim=frame * 2)"
      ],
      "metadata": {
        "id": "eW6CcytNa_f8"
      },
      "execution_count": null,
      "outputs": []
    },
    {
      "cell_type": "code",
      "source": [
        "# create animation with 100 frames and 200ms interval between frames (faster interval = shorter frames)\n",
        "ani = animation.FuncAnimation(fig, update, frames=100, interval=200)\n",
        "\n",
        "# save animation as gif for sharing (lower fps for smoother playback)\n",
        "ani.save(\"quantum_dual_visualization2.gif\", writer=\"pillow\", fps=15, dpi=100)\n",
        "\n",
        "# display animation in jupyter notebook\n",
        "from IPython.display import HTML\n",
        "display(HTML(ani.to_jshtml()))"
      ],
      "metadata": {
        "id": "nPkMQ9cKbB0A"
      },
      "execution_count": null,
      "outputs": []
    }
  ]
}